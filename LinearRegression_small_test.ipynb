{
  "nbformat": 4,
  "nbformat_minor": 0,
  "metadata": {
    "colab": {
      "name": "LinearRegression_small_test.ipynb",
      "provenance": [],
      "collapsed_sections": [],
      "authorship_tag": "ABX9TyNKZAAf32OWtZrvKQDq/WVT",
      "include_colab_link": true
    },
    "kernelspec": {
      "name": "python3",
      "display_name": "Python 3"
    },
    "language_info": {
      "name": "python"
    }
  },
  "cells": [
    {
      "cell_type": "markdown",
      "metadata": {
        "id": "view-in-github",
        "colab_type": "text"
      },
      "source": [
        "<a href=\"https://colab.research.google.com/github/youssefbourais0310/Machine_learning_Regression/blob/main/LinearRegression_small_test.ipynb\" target=\"_parent\"><img src=\"https://colab.research.google.com/assets/colab-badge.svg\" alt=\"Open In Colab\"/></a>"
      ]
    },
    {
      "cell_type": "code",
      "execution_count": 38,
      "metadata": {
        "id": "IoNrFIDZL_s_"
      },
      "outputs": [],
      "source": [
        "from sklearn.linear_model import LinearRegression\n",
        "from sklearn.ensemble import RandomForestClassifier\n",
        "import random"
      ]
    },
    {
      "cell_type": "code",
      "source": [
        "# creat two emty list\n",
        "featur_set = []\n",
        "target_set = []"
      ],
      "metadata": {
        "id": "mxK6OO5gMdt9"
      },
      "execution_count": 17,
      "outputs": []
    },
    {
      "cell_type": "code",
      "source": [
        "# get the number of rows for the data set\n",
        "number_of_rows = 200\n",
        "\n",
        "# limit the possible values in the data set\n",
        "random_number_limit = 2000"
      ],
      "metadata": {
        "id": "NNFNo2HiMtid"
      },
      "execution_count": 18,
      "outputs": []
    },
    {
      "cell_type": "code",
      "source": [
        "#  creat the data set\n",
        " \n",
        "#  creat the feature data set\n",
        "\n",
        "for i in range(0, number_of_rows ) :\n",
        "  x = random.randint(0, random_number_limit)\n",
        "  y = random.randint(0, random_number_limit)\n",
        "  z = random.randint(0, random_number_limit)\n",
        "\n",
        "#  creat a liner function for the target data set\n",
        "  function = (10*x) + (2*y) + (3*z)\n",
        "  #  append the data to the lists\n",
        "  featur_set.append([x, y, z])\n",
        "  target_set.append(function)"
      ],
      "metadata": {
        "id": "hDFuC6poOtqo"
      },
      "execution_count": 34,
      "outputs": []
    },
    {
      "cell_type": "code",
      "source": [
        "# creat the linear regrission model\n",
        "model = LinearRegression()\n",
        "model.fit(featur_set, target_set)"
      ],
      "metadata": {
        "colab": {
          "base_uri": "https://localhost:8080/"
        },
        "id": "9e7o8NLJPqrJ",
        "outputId": "90dd6f43-67a4-45b4-c13e-8c5c7c18a96f"
      },
      "execution_count": 48,
      "outputs": [
        {
          "output_type": "execute_result",
          "data": {
            "text/plain": [
              "LinearRegression()"
            ]
          },
          "metadata": {},
          "execution_count": 48
        }
      ]
    },
    {
      "cell_type": "code",
      "source": [
        "# creat the test data set \n",
        "test_set = [[8, 10, 0]] # expeced output = function (8,10,0) = (8*10) + (2*10) + (3*0) = 100\n",
        "prediction = model.predict(test_set)"
      ],
      "metadata": {
        "id": "lIgsG1VHP5_c"
      },
      "execution_count": 46,
      "outputs": []
    },
    {
      "cell_type": "code",
      "source": [
        "print(\"prediction:\" +str(prediction) + \"coefficient:\"+ str(model.coef_))"
      ],
      "metadata": {
        "colab": {
          "base_uri": "https://localhost:8080/"
        },
        "id": "UrsMAH7gQaRY",
        "outputId": "150a07d9-c6c9-45f7-a5ea-1aad8718c2a6"
      },
      "execution_count": 47,
      "outputs": [
        {
          "output_type": "stream",
          "name": "stdout",
          "text": [
            "prediction:[100.]coefficient:[10.  2.  3.]\n"
          ]
        }
      ]
    }
  ]
}