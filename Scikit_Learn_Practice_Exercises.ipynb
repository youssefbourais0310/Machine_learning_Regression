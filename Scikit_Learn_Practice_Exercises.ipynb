{
  "nbformat": 4,
  "nbformat_minor": 0,
  "metadata": {
    "colab": {
      "name": "Scikit-Learn Practice Exercises.ipynb",
      "provenance": [],
      "collapsed_sections": [],
      "authorship_tag": "ABX9TyPDNkSM8YF7572AeQqwQ6ez",
      "include_colab_link": true
    },
    "kernelspec": {
      "display_name": "Python 3",
      "name": "python3"
    },
    "language_info": {
      "name": "python"
    }
  },
  "cells": [
    {
      "cell_type": "markdown",
      "metadata": {
        "id": "view-in-github",
        "colab_type": "text"
      },
      "source": [
        "<a href=\"https://colab.research.google.com/github/youssefbourais0310/Machine_learning_Regression/blob/main/Scikit_Learn_Practice_Exercises.ipynb\" target=\"_parent\"><img src=\"https://colab.research.google.com/assets/colab-badge.svg\" alt=\"Open In Colab\"/></a>"
      ]
    },
    {
      "cell_type": "code",
      "metadata": {
        "id": "Zhm4wsHnlLyN"
      },
      "source": [
        "# Setup matplotlib to plot inline (within the notebook)\n",
        "%matplotlib inline\n",
        "\n",
        "# Import the pyplot module of Matplotlib as plt\n",
        "import matplotlib.pyplot as plt\n",
        "\n",
        "# Import pandas under the abbreviation 'pd'\n",
        "import pandas as pd\n",
        "\n",
        "# Import NumPy under the abbreviation 'np'\n",
        "import numpy as np"
      ],
      "execution_count": 1,
      "outputs": []
    },
    {
      "cell_type": "code",
      "metadata": {
        "colab": {
          "base_uri": "https://localhost:8080/",
          "height": 203
        },
        "id": "pNY2hTszmc7N",
        "outputId": "7dc49b32-38c3-477a-c8eb-350f3149f934"
      },
      "source": [
        "# Import the heart disease dataset and save it to a variable\n",
        "# using pandas and read_csv()\n",
        "# Hint: You can directly pass the URL of a csv to read_csv()\n",
        "heart_disease = pd.read_csv(\"https://raw.githubusercontent.com/CongLiu-CN/zero-to-mastery-ml/master/data/heart-disease.csv\")\n",
        "\n",
        "# Check the first 5 rows of the data\n",
        "heart_disease.head()"
      ],
      "execution_count": 2,
      "outputs": [
        {
          "output_type": "execute_result",
          "data": {
            "text/html": [
              "<div>\n",
              "<style scoped>\n",
              "    .dataframe tbody tr th:only-of-type {\n",
              "        vertical-align: middle;\n",
              "    }\n",
              "\n",
              "    .dataframe tbody tr th {\n",
              "        vertical-align: top;\n",
              "    }\n",
              "\n",
              "    .dataframe thead th {\n",
              "        text-align: right;\n",
              "    }\n",
              "</style>\n",
              "<table border=\"1\" class=\"dataframe\">\n",
              "  <thead>\n",
              "    <tr style=\"text-align: right;\">\n",
              "      <th></th>\n",
              "      <th>age</th>\n",
              "      <th>sex</th>\n",
              "      <th>cp</th>\n",
              "      <th>trestbps</th>\n",
              "      <th>chol</th>\n",
              "      <th>fbs</th>\n",
              "      <th>restecg</th>\n",
              "      <th>thalach</th>\n",
              "      <th>exang</th>\n",
              "      <th>oldpeak</th>\n",
              "      <th>slope</th>\n",
              "      <th>ca</th>\n",
              "      <th>thal</th>\n",
              "      <th>target</th>\n",
              "    </tr>\n",
              "  </thead>\n",
              "  <tbody>\n",
              "    <tr>\n",
              "      <th>0</th>\n",
              "      <td>63</td>\n",
              "      <td>1</td>\n",
              "      <td>3</td>\n",
              "      <td>145</td>\n",
              "      <td>233</td>\n",
              "      <td>1</td>\n",
              "      <td>0</td>\n",
              "      <td>150</td>\n",
              "      <td>0</td>\n",
              "      <td>2.3</td>\n",
              "      <td>0</td>\n",
              "      <td>0</td>\n",
              "      <td>1</td>\n",
              "      <td>1</td>\n",
              "    </tr>\n",
              "    <tr>\n",
              "      <th>1</th>\n",
              "      <td>37</td>\n",
              "      <td>1</td>\n",
              "      <td>2</td>\n",
              "      <td>130</td>\n",
              "      <td>250</td>\n",
              "      <td>0</td>\n",
              "      <td>1</td>\n",
              "      <td>187</td>\n",
              "      <td>0</td>\n",
              "      <td>3.5</td>\n",
              "      <td>0</td>\n",
              "      <td>0</td>\n",
              "      <td>2</td>\n",
              "      <td>1</td>\n",
              "    </tr>\n",
              "    <tr>\n",
              "      <th>2</th>\n",
              "      <td>41</td>\n",
              "      <td>0</td>\n",
              "      <td>1</td>\n",
              "      <td>130</td>\n",
              "      <td>204</td>\n",
              "      <td>0</td>\n",
              "      <td>0</td>\n",
              "      <td>172</td>\n",
              "      <td>0</td>\n",
              "      <td>1.4</td>\n",
              "      <td>2</td>\n",
              "      <td>0</td>\n",
              "      <td>2</td>\n",
              "      <td>1</td>\n",
              "    </tr>\n",
              "    <tr>\n",
              "      <th>3</th>\n",
              "      <td>56</td>\n",
              "      <td>1</td>\n",
              "      <td>1</td>\n",
              "      <td>120</td>\n",
              "      <td>236</td>\n",
              "      <td>0</td>\n",
              "      <td>1</td>\n",
              "      <td>178</td>\n",
              "      <td>0</td>\n",
              "      <td>0.8</td>\n",
              "      <td>2</td>\n",
              "      <td>0</td>\n",
              "      <td>2</td>\n",
              "      <td>1</td>\n",
              "    </tr>\n",
              "    <tr>\n",
              "      <th>4</th>\n",
              "      <td>57</td>\n",
              "      <td>0</td>\n",
              "      <td>0</td>\n",
              "      <td>120</td>\n",
              "      <td>354</td>\n",
              "      <td>0</td>\n",
              "      <td>1</td>\n",
              "      <td>163</td>\n",
              "      <td>1</td>\n",
              "      <td>0.6</td>\n",
              "      <td>2</td>\n",
              "      <td>0</td>\n",
              "      <td>2</td>\n",
              "      <td>1</td>\n",
              "    </tr>\n",
              "  </tbody>\n",
              "</table>\n",
              "</div>"
            ],
            "text/plain": [
              "   age  sex  cp  trestbps  chol  fbs  ...  exang  oldpeak  slope  ca  thal  target\n",
              "0   63    1   3       145   233    1  ...      0      2.3      0   0     1       1\n",
              "1   37    1   2       130   250    0  ...      0      3.5      0   0     2       1\n",
              "2   41    0   1       130   204    0  ...      0      1.4      2   0     2       1\n",
              "3   56    1   1       120   236    0  ...      0      0.8      2   0     2       1\n",
              "4   57    0   0       120   354    0  ...      1      0.6      2   0     2       1\n",
              "\n",
              "[5 rows x 14 columns]"
            ]
          },
          "metadata": {},
          "execution_count": 2
        }
      ]
    },
    {
      "cell_type": "code",
      "metadata": {
        "id": "ahCynDNKoHHh"
      },
      "source": [
        "# Create X (all columns except target)\n",
        "X = heart_disease.drop(\"target\", axis=1)\n",
        "\n",
        "# Create y (only the target column)\n",
        "y = heart_disease[\"target\"]"
      ],
      "execution_count": 3,
      "outputs": []
    },
    {
      "cell_type": "code",
      "metadata": {
        "id": "kkRnv8NsoK5g"
      },
      "source": [
        "# Import train_test_split from sklearn's model_selection module\n",
        "from sklearn.model_selection import train_test_split\n",
        "\n",
        "np.random.seed(42)\n",
        "\n",
        "# Use train_test_split to split X & y into training and test sets\n",
        "X_train, X_test, y_train, y_test = train_test_split(X, y)"
      ],
      "execution_count": 4,
      "outputs": []
    },
    {
      "cell_type": "code",
      "metadata": {
        "colab": {
          "base_uri": "https://localhost:8080/"
        },
        "id": "08XMGm21oL_6",
        "outputId": "3b51dd3f-6236-45a7-d018-3e5879993a2e"
      },
      "source": [
        "# View the different shapes of the training and test datasets\n",
        "X_train.shape, X_test.shape, y_train.shape, y_test.shape"
      ],
      "execution_count": 5,
      "outputs": [
        {
          "output_type": "execute_result",
          "data": {
            "text/plain": [
              "((227, 13), (76, 13), (227,), (76,))"
            ]
          },
          "metadata": {},
          "execution_count": 5
        }
      ]
    },
    {
      "cell_type": "code",
      "metadata": {
        "id": "BEx_FTMNoqi6"
      },
      "source": [
        "# Import the RandomForestClassifier from sklearn's ensemble module\n",
        "from sklearn.ensemble import RandomForestClassifier\n",
        "\n",
        "# Instantiate an instance of RandomForestClassifier as clf\n",
        "clf = RandomForestClassifier()"
      ],
      "execution_count": 6,
      "outputs": []
    },
    {
      "cell_type": "code",
      "metadata": {
        "id": "j0I2sxrWtviM"
      },
      "source": [
        "# Import LinearSVC from sklearn's svm module\n",
        "from sklearn.svm import LinearSVC\n",
        "\n",
        "# Import KNeighborsClassifier from sklearn's neighbors module\n",
        "from sklearn.neighbors import KNeighborsClassifier\n",
        "\n",
        "# Import SVC from sklearn's svm module\n",
        "from sklearn.svm import SVC\n",
        "\n",
        "# Import LogisticRegression from sklearn's linear_model module\n",
        "from sklearn.linear_model import LogisticRegression\n",
        "\n",
        "# Note: we don't have to import RandomForestClassifier, since we already have"
      ],
      "execution_count": 7,
      "outputs": []
    },
    {
      "cell_type": "code",
      "metadata": {
        "id": "zIH5ojCH3OTi"
      },
      "source": [
        "# EXAMPLE: Instantiating a RandomForestClassifier() in a dictionary\n",
        "example_dict = {\"RandomForestClassifier\": RandomForestClassifier()}\n",
        "\n",
        "# Create a dictionary called models which contains all of the classification models we've imported\n",
        "# Make sure the dictionary is in the same format as example_dict\n",
        "# The models dictionary should contain 5 models\n",
        "models = {\"LinearSVC\": LinearSVC(),\n",
        "          \"KNN\": KNeighborsClassifier(),\n",
        "          \"SVC\": SVC(),\n",
        "          \"LogisticRegression\": LogisticRegression(),\n",
        "          \"RandomForestClassifier\": RandomForestClassifier()}\n",
        "\n",
        "# Create an empty dictionary called results\n",
        "results = {}"
      ],
      "execution_count": 8,
      "outputs": []
    },
    {
      "cell_type": "code",
      "metadata": {
        "colab": {
          "base_uri": "https://localhost:8080/"
        },
        "id": "5XM7E0z93vSQ",
        "outputId": "8da45aac-76e8-484e-abc8-bbca97553ed9"
      },
      "source": [
        "# EXAMPLE: Looping through example_dict fitting and scoring the model\n",
        "example_results = {}\n",
        "for model_name, model in example_dict.items():\n",
        "    model.fit(X_train, y_train)\n",
        "    example_results[model_name] = model.score(X_test, y_test)\n",
        "\n",
        "# EXAMPLE: View the results\n",
        "example_results   "
      ],
      "execution_count": 9,
      "outputs": [
        {
          "output_type": "execute_result",
          "data": {
            "text/plain": [
              "{'RandomForestClassifier': 0.8289473684210527}"
            ]
          },
          "metadata": {},
          "execution_count": 9
        }
      ]
    },
    {
      "cell_type": "code",
      "metadata": {
        "colab": {
          "base_uri": "https://localhost:8080/"
        },
        "id": "38IojxrYH5Wk",
        "outputId": "5dc90b53-e918-4a4c-f066-76c8516ed41a"
      },
      "source": [
        "# Loop through the models dictionary items, fitting the model on the training data\n",
        "# and appending the model name and model score on the test data to the results dictionary\n",
        "for model_name, model in models.items():\n",
        "    model.fit(X_train, y_train)\n",
        "    results[model_name] = model.score(X_test, y_test)\n",
        "\n",
        "# View the results\n",
        "results"
      ],
      "execution_count": 10,
      "outputs": [
        {
          "output_type": "stream",
          "name": "stderr",
          "text": [
            "/usr/local/lib/python3.7/dist-packages/sklearn/svm/_base.py:947: ConvergenceWarning: Liblinear failed to converge, increase the number of iterations.\n",
            "  \"the number of iterations.\", ConvergenceWarning)\n",
            "/usr/local/lib/python3.7/dist-packages/sklearn/linear_model/_logistic.py:940: ConvergenceWarning: lbfgs failed to converge (status=1):\n",
            "STOP: TOTAL NO. of ITERATIONS REACHED LIMIT.\n",
            "\n",
            "Increase the number of iterations (max_iter) or scale the data as shown in:\n",
            "    https://scikit-learn.org/stable/modules/preprocessing.html\n",
            "Please also refer to the documentation for alternative solver options:\n",
            "    https://scikit-learn.org/stable/modules/linear_model.html#logistic-regression\n",
            "  extra_warning_msg=_LOGISTIC_SOLVER_CONVERGENCE_MSG)\n"
          ]
        },
        {
          "output_type": "execute_result",
          "data": {
            "text/plain": [
              "{'KNN': 0.6973684210526315,\n",
              " 'LinearSVC': 0.4605263157894737,\n",
              " 'LogisticRegression': 0.881578947368421,\n",
              " 'RandomForestClassifier': 0.8552631578947368,\n",
              " 'SVC': 0.6973684210526315}"
            ]
          },
          "metadata": {},
          "execution_count": 10
        }
      ]
    },
    {
      "cell_type": "code",
      "metadata": {
        "colab": {
          "base_uri": "https://localhost:8080/",
          "height": 373
        },
        "id": "FVzdLU-gIiMs",
        "outputId": "73b3f220-bb2f-4196-82c5-dbed303422b9"
      },
      "source": [
        "# Create a pandas dataframe with the data as the values of the results dictionary,\n",
        "# the index as the keys of the results dictionary and a single column called accuracy.\n",
        "# Be sure to save the dataframe to a variable.\n",
        "results_df = pd.DataFrame(results.values(), \n",
        "                          results.keys(), \n",
        "                          columns=[\"Accuracy\"])\n",
        "\n",
        "# Create a bar plot of the results dataframe using plot.bar()\n",
        "results_df.plot.bar();"
      ],
      "execution_count": 11,
      "outputs": [
        {
          "output_type": "display_data",
          "data": {
            "image/png": "[encoded data removed]",
            "text/plain": [
              "<Figure size 432x288 with 1 Axes>"
            ]
          },
          "metadata": {
            "needs_background": "light"
          }
        }
      ]
    },
    {
      "cell_type": "code",
      "metadata": {
        "id": "EXcDUAD5I5RJ"
      },
      "source": [
        "# Different LogisticRegression hyperparameters\n",
        "log_reg_grid = {\"C\": np.logspace(-4, 4, 20),\n",
        "                \"solver\": [\"liblinear\"]}"
      ],
      "execution_count": 12,
      "outputs": []
    },
    {
      "cell_type": "code",
      "metadata": {
        "colab": {
          "base_uri": "https://localhost:8080/"
        },
        "id": "IE5qRA8yUT_6",
        "outputId": "34e0d225-f3e5-49cc-a71b-ece6a20b6561"
      },
      "source": [
        "# Setup np random seed of 42\n",
        "np.random.seed(42)\n",
        "\n",
        "# Import RandomizedSearchCV from sklearn's model_selection module\n",
        "from sklearn.model_selection import RandomizedSearchCV\n",
        "\n",
        "# Setup an instance of RandomizedSearchCV with a LogisticRegression() estimator,\n",
        "# our log_reg_grid as the param_distributions, a cv of 5 and n_iter of 5.\n",
        "rs_log_reg = RandomizedSearchCV(estimator=LogisticRegression(),\n",
        "                                param_distributions=log_reg_grid,\n",
        "                                cv=5,\n",
        "                                n_iter=5,\n",
        "                                verbose=True)\n",
        "\n",
        "# Fit the instance of RandomizedSearchCV\n",
        "rs_log_reg.fit(X_train, y_train);"
      ],
      "execution_count": 13,
      "outputs": [
        {
          "output_type": "stream",
          "name": "stdout",
          "text": [
            "Fitting 5 folds for each of 5 candidates, totalling 25 fits\n"
          ]
        },
        {
          "output_type": "stream",
          "name": "stderr",
          "text": [
            "[Parallel(n_jobs=1)]: Using backend SequentialBackend with 1 concurrent workers.\n",
            "[Parallel(n_jobs=1)]: Done  25 out of  25 | elapsed:    0.1s finished\n"
          ]
        }
      ]
    },
    {
      "cell_type": "code",
      "metadata": {
        "colab": {
          "base_uri": "https://localhost:8080/"
        },
        "id": "KcHkjjs2UUQB",
        "outputId": "a046da7a-038e-41e7-b730-80806005d983"
      },
      "source": [
        "# Find the best parameters of the RandomizedSearchCV instance using the best_params_ attribute\n",
        "rs_log_reg.best_params_"
      ],
      "execution_count": 14,
      "outputs": [
        {
          "output_type": "execute_result",
          "data": {
            "text/plain": [
              "{'C': 0.23357214690901212, 'solver': 'liblinear'}"
            ]
          },
          "metadata": {},
          "execution_count": 14
        }
      ]
    },
    {
      "cell_type": "code",
      "metadata": {
        "colab": {
          "base_uri": "https://localhost:8080/"
        },
        "id": "B-cRtCBon42n",
        "outputId": "3e22762a-260f-43f0-c5bc-ce062f99f084"
      },
      "source": [
        "# Score the instance of RandomizedSearchCV using the test data\n",
        "rs_log_reg.score(X_test, y_test)"
      ],
      "execution_count": 15,
      "outputs": [
        {
          "output_type": "execute_result",
          "data": {
            "text/plain": [
              "0.8947368421052632"
            ]
          },
          "metadata": {},
          "execution_count": 15
        }
      ]
    },
    {
      "cell_type": "code",
      "metadata": {
        "id": "foDfDu5C1RLM"
      },
      "source": [
        "# Instantiate a LogisticRegression classifier using the best hyperparameters from RandomizedSearchCV\n",
        "clf = LogisticRegression(solver=\"liblinear\", C=0.23357214690901212)\n",
        "\n",
        "# Fit the new instance of LogisticRegression with the best hyperparameters on the training data \n",
        "clf.fit(X_train, y_train);"
      ],
      "execution_count": 16,
      "outputs": []
    },
    {
      "cell_type": "code",
      "metadata": {
        "id": "2xeoU_hn1zQ6"
      },
      "source": [
        "# Import confusion_matrix and classification_report from sklearn's metrics module\n",
        "from sklearn.metrics import confusion_matrix, classification_report\n",
        "\n",
        "# Import precision_score, recall_score and f1_score from sklearn's metrics module\n",
        "from sklearn.metrics import precision_score, recall_score, f1_score\n",
        "\n",
        "# Import plot_roc_curve from sklearn's metrics module\n",
        "from sklearn.metrics import plot_roc_curve"
      ],
      "execution_count": 17,
      "outputs": []
    },
    {
      "cell_type": "code",
      "metadata": {
        "id": "2YfmUWdr2UKW"
      },
      "source": [
        "# Make predictions on test data and save them\n",
        "y_preds = clf.predict(X_test)"
      ],
      "execution_count": 18,
      "outputs": []
    },
    {
      "cell_type": "code",
      "metadata": {
        "colab": {
          "base_uri": "https://localhost:8080/"
        },
        "id": "Mb3O1Yz5JQMF",
        "outputId": "17b4f5cd-7bf5-4f8e-9587-60c260b3ec2d"
      },
      "source": [
        "# Create a confusion matrix using the confusion_matrix function\n",
        "confusion_matrix(y_test, y_preds)"
      ],
      "execution_count": 19,
      "outputs": [
        {
          "output_type": "execute_result",
          "data": {
            "text/plain": [
              "array([[30,  5],\n",
              "       [ 3, 38]])"
            ]
          },
          "metadata": {},
          "execution_count": 19
        }
      ]
    },
    {
      "cell_type": "code",
      "metadata": {
        "colab": {
          "base_uri": "https://localhost:8080/"
        },
        "id": "I1b0oCVrQwXp",
        "outputId": "b3697cb0-7168-4c7b-8062-8ad3dd565626"
      },
      "source": [
        "import sys\n",
        "!conda install --yes --prefix {sys.prefix} seaborn"
      ],
      "execution_count": 20,
      "outputs": [
        {
          "output_type": "stream",
          "name": "stdout",
          "text": [
            "/bin/bash: conda: command not found\n"
          ]
        }
      ]
    },
    {
      "cell_type": "code",
      "metadata": {
        "id": "QP4JWM6FgD9s",
        "colab": {
          "base_uri": "https://localhost:8080/",
          "height": 225
        },
        "outputId": "33a1a749-98f8-4110-da41-4defcf989711"
      },
      "source": [
        "# Create a more visual confusion matrix\n",
        "# Import seaborn for improving visualisaztion of confusion matrix\n",
        "import seaborn as sns\n",
        "\n",
        "# Make confusion matrix more visual\n",
        "def plot_conf_mat(y_test, y_preds):\n",
        "    \"\"\"\n",
        "    Plots a confusion matrix using Seaborn's heatmap().\n",
        "    \"\"\"\n",
        "    fig, ax = plt.subplots(figsize=(3, 3))\n",
        "    ax = sns.heatmap(confusion_matrix(y_test, y_preds),\n",
        "                    annot=True, # Annotate the boxes\n",
        "                    cbar=False)\n",
        "    plt.xlabel(\"Predicted label\")\n",
        "    plt.ylabel(\"True label\")\n",
        "    \n",
        "plot_conf_mat(y_test, y_preds)"
      ],
      "execution_count": 21,
      "outputs": [
        {
          "output_type": "display_data",
          "data": {
            "image/png": "[encoded data removed]",
            "text/plain": [
              "<Figure size 216x216 with 1 Axes>"
            ]
          },
          "metadata": {
            "needs_background": "light"
          }
        }
      ]
    },
    {
      "cell_type": "code",
      "metadata": {
        "id": "tpOHm4akpZ46",
        "colab": {
          "base_uri": "https://localhost:8080/"
        },
        "outputId": "79c3069c-da34-418f-9446-4d48c78d20fa"
      },
      "source": [
        "# Create a classification report using the classification_report function\n",
        "print(classification_report(y_test, y_preds))"
      ],
      "execution_count": 22,
      "outputs": [
        {
          "output_type": "stream",
          "name": "stdout",
          "text": [
            "              precision    recall  f1-score   support\n",
            "\n",
            "           0       0.91      0.86      0.88        35\n",
            "           1       0.88      0.93      0.90        41\n",
            "\n",
            "    accuracy                           0.89        76\n",
            "   macro avg       0.90      0.89      0.89        76\n",
            "weighted avg       0.90      0.89      0.89        76\n",
            "\n"
          ]
        }
      ]
    },
    {
      "cell_type": "code",
      "metadata": {
        "colab": {
          "base_uri": "https://localhost:8080/"
        },
        "id": "PAXrSdh728D2",
        "outputId": "834908c6-8d09-4e1f-b7a7-7ed5dd8bc0e8"
      },
      "source": [
        "# Find the precision score of the model using precision_score()\n",
        "precision_score(y_test, y_preds)"
      ],
      "execution_count": 23,
      "outputs": [
        {
          "output_type": "execute_result",
          "data": {
            "text/plain": [
              "0.8837209302325582"
            ]
          },
          "metadata": {},
          "execution_count": 23
        }
      ]
    },
    {
      "cell_type": "code",
      "metadata": {
        "colab": {
          "base_uri": "https://localhost:8080/"
        },
        "id": "4gn6UfM-3YnH",
        "outputId": "96d9a512-2826-4fdb-8c64-474a8be80607"
      },
      "source": [
        "# Find the recall score\n",
        "recall_score(y_test, y_preds)"
      ],
      "execution_count": 24,
      "outputs": [
        {
          "output_type": "execute_result",
          "data": {
            "text/plain": [
              "0.926829268292683"
            ]
          },
          "metadata": {},
          "execution_count": 24
        }
      ]
    },
    {
      "cell_type": "code",
      "metadata": {
        "colab": {
          "base_uri": "https://localhost:8080/"
        },
        "id": "eajjIFLR3qeP",
        "outputId": "9d834d1f-ae7d-4ee9-e091-7cbb94d3f11b"
      },
      "source": [
        "# Find the F1 score\n",
        "f1_score(y_test, y_preds)"
      ],
      "execution_count": 25,
      "outputs": [
        {
          "output_type": "execute_result",
          "data": {
            "text/plain": [
              "0.9047619047619047"
            ]
          },
          "metadata": {},
          "execution_count": 25
        }
      ]
    },
    {
      "cell_type": "code",
      "metadata": {
        "colab": {
          "base_uri": "https://localhost:8080/",
          "height": 279
        },
        "id": "PENHAId23-se",
        "outputId": "c70c7720-2dac-4c5c-ba38-4cfc6729c7e4"
      },
      "source": [
        "# Plot a ROC curve using our current machine learning model using plot_roc_curve\n",
        "plot_roc_curve(clf, X_test, y_test);"
      ],
      "execution_count": 26,
      "outputs": [
        {
          "output_type": "display_data",
          "data": {
            "image/png": "[encoded data removed]",
            "text/plain": [
              "<Figure size 432x288 with 1 Axes>"
            ]
          },
          "metadata": {
            "needs_background": "light"
          }
        }
      ]
    },
    {
      "cell_type": "code",
      "metadata": {
        "id": "4URorXLuwlcC"
      },
      "source": [
        "# Import cross_val_score from sklearn's model_selection module\n",
        "from sklearn.model_selection import cross_val_score"
      ],
      "execution_count": 27,
      "outputs": []
    },
    {
      "cell_type": "code",
      "metadata": {
        "colab": {
          "base_uri": "https://localhost:8080/"
        },
        "id": "pyK7sHMBt5zb",
        "outputId": "d94483d0-0bcc-4bd0-82cd-cf75c19f3761"
      },
      "source": [
        "# EXAMPLE: By default cross_val_score returns 5 values (cv=5).\n",
        "cross_val_score(clf, \n",
        "                X, \n",
        "                y, \n",
        "                scoring=\"accuracy\",\n",
        "                cv=5)"
      ],
      "execution_count": 28,
      "outputs": [
        {
          "output_type": "execute_result",
          "data": {
            "text/plain": [
              "array([0.81967213, 0.90163934, 0.8852459 , 0.88333333, 0.75      ])"
            ]
          },
          "metadata": {},
          "execution_count": 28
        }
      ]
    }
  ]
}